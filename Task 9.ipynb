{
 "cells": [
  {
   "cell_type": "markdown",
   "metadata": {},
   "source": [
    "2.Ask User to press 1 for Addition, 2 for Subtraction, 3 for Multiplication and 4 for Division."
   ]
  },
  {
   "cell_type": "code",
   "execution_count": 1,
   "metadata": {},
   "outputs": [
    {
     "name": "stdout",
     "output_type": "stream",
     "text": [
      "Enter First value:9\n",
      "Enter second value:3\n",
      "Select Operation.\n",
      "1.Add\n",
      "2.Sub\n",
      "3.Mul\n",
      "4.Div\n",
      "Enter the Choice:4\n",
      "Subtraction of 9 and 3 is: 3.0\n"
     ]
    }
   ],
   "source": [
    "num1 = int(input(\"Enter First value:\"))\n",
    "num2 = int(input(\"Enter second value:\"))\n",
    "print(\"Select Operation.\")\n",
    "print(\"1.Add\")\n",
    "print(\"2.Sub\")\n",
    "print(\"3.Mul\")\n",
    "print(\"4.Div\")\n",
    "choice = int(input(\"Enter the Choice:\"))\n",
    "\n",
    "if(choice==1):\n",
    "    print(\"Addition of {} and {} is: {}\".format(num1,num2,num1+num2))\n",
    "elif(choice==2):\n",
    "    print(\"Subtraction of {} and {} is: {}\".format(num1,num2,num1-num2))\n",
    "elif(choice==3):\n",
    "    print(\"Multiplication of {} and {} is: {}\".format(num1,num2,num1*num2))\n",
    "elif(choice==4):\n",
    "    print(\"Subtraction of {} and {} is: {}\".format(num1,num2,num1/num2))\n",
    "else:\n",
    "    print(\"Invaliad Input\")"
   ]
  },
  {
   "cell_type": "code",
   "execution_count": null,
   "metadata": {},
   "outputs": [],
   "source": []
  },
  {
   "cell_type": "code",
   "execution_count": null,
   "metadata": {},
   "outputs": [],
   "source": []
  },
  {
   "cell_type": "code",
   "execution_count": null,
   "metadata": {},
   "outputs": [],
   "source": []
  },
  {
   "cell_type": "code",
   "execution_count": null,
   "metadata": {},
   "outputs": [],
   "source": []
  }
 ],
 "metadata": {
  "kernelspec": {
   "display_name": "Python 3",
   "language": "python",
   "name": "python3"
  },
  "language_info": {
   "codemirror_mode": {
    "name": "ipython",
    "version": 3
   },
   "file_extension": ".py",
   "mimetype": "text/x-python",
   "name": "python",
   "nbconvert_exporter": "python",
   "pygments_lexer": "ipython3",
   "version": "3.8.3"
  }
 },
 "nbformat": 4,
 "nbformat_minor": 4
}
